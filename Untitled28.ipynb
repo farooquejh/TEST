{
  "nbformat": 4,
  "nbformat_minor": 0,
  "metadata": {
    "colab": {
      "name": "Untitled28.ipynb",
      "provenance": [],
      "authorship_tag": "ABX9TyNzCUwmbZE+/YpFdMKi5dMU",
      "include_colab_link": true
    },
    "kernelspec": {
      "name": "python3",
      "display_name": "Python 3"
    },
    "language_info": {
      "name": "python"
    }
  },
  "cells": [
    {
      "cell_type": "markdown",
      "metadata": {
        "id": "view-in-github",
        "colab_type": "text"
      },
      "source": [
        "<a href=\"https://colab.research.google.com/github/farooquejh/TEST/blob/main/Untitled28.ipynb\" target=\"_parent\"><img src=\"https://colab.research.google.com/assets/colab-badge.svg\" alt=\"Open In Colab\"/></a>"
      ]
    },
    {
      "cell_type": "code",
      "execution_count": null,
      "metadata": {
        "id": "7yLcBm3nuGCO",
        "colab": {
          "base_uri": "https://localhost:8080/"
        },
        "outputId": "fe73a565-eaf6-4275-efb4-1234e5b12406"
      },
      "outputs": [
        {
          "output_type": "stream",
          "name": "stdout",
          "text": [
            "enter the total no3\n",
            "enter the number are12\n",
            "enter the number are3\n",
            "enter the number are5\n",
            "the avg number is : 6.666666666666667\n"
          ]
        }
      ],
      "source": [
        "n=int(input(\"enter the total no\"))\n",
        "a=[]\n",
        "for i in range(0,n):\n",
        "  b=int(input(\"enter the number are\"))\n",
        "  a.append(b)\n",
        "avg=sum(a)/n\n",
        "print(\"the avg number is :\",avg)"
      ]
    },
    {
      "cell_type": "code",
      "source": [
        "a=int(input(\"enter the first number:\"))\n",
        "b=int(input(\"enter the second number:\"))\n",
        "a=a+b\n",
        "b=a-b\n",
        "a=a-b\n",
        "print(\"the value of a:\",a,\" the value of b\",b)\n"
      ],
      "metadata": {
        "colab": {
          "base_uri": "https://localhost:8080/"
        },
        "id": "F5jEUP2YD_yQ",
        "outputId": "108a1c99-658f-4e31-c860-78dd9ad9ffb3"
      },
      "execution_count": null,
      "outputs": [
        {
          "output_type": "stream",
          "name": "stdout",
          "text": [
            "enter the first number:12\n",
            "enter the second number:32\n",
            "the value of a: 32  the value of b 12\n"
          ]
        }
      ]
    },
    {
      "cell_type": "code",
      "source": [
        "n=int(input(\"enter the number:\"))\n",
        "rev=0\n",
        "while(n>0):\n",
        "  dig=n%10\n",
        "  rev=rev*10+dig\n",
        "  n=n//10\n",
        "print(\"the reversed no is\",rev)"
      ],
      "metadata": {
        "id": "H9-D8qtdHAjt",
        "colab": {
          "base_uri": "https://localhost:8080/"
        },
        "outputId": "38882cb4-7cbe-4ba9-9051-0fbeb4a0cd82"
      },
      "execution_count": null,
      "outputs": [
        {
          "output_type": "stream",
          "name": "stdout",
          "text": [
            "enter the number:12\n",
            "the reversed no is 21\n"
          ]
        }
      ]
    },
    {
      "cell_type": "code",
      "source": [
        "n=int(input(\"enter the number:\"))\n",
        "if(n>0):\n",
        "  print(\"the no is even\")\n",
        "else:\n",
        "  print(\"the odd number\")"
      ],
      "metadata": {
        "colab": {
          "base_uri": "https://localhost:8080/"
        },
        "id": "0Kl2z4HlopOn",
        "outputId": "56c69ec1-b110-4df9-eed9-729fe046453c"
      },
      "execution_count": null,
      "outputs": [
        {
          "output_type": "stream",
          "name": "stdout",
          "text": [
            "enter the number:12\n",
            "the no is even\n"
          ]
        }
      ]
    },
    {
      "cell_type": "code",
      "source": [
        "###sub1=int(input(\"enter the number:\"))\n",
        "sub2=int(input(\"enter the number:\"))\n",
        "sub3=int(input(\"enter the third number\"))\n",
        "avg=(sub1+sub2+sub3)/3if(avg>=90):\n",
        "  print(\"topper\")\n",
        "elif(avg>=60&avg<90):\n",
        "  print(\"good\")\n",
        "else:\n",
        "  print(\"satisfied\")###\n"
      ],
      "metadata": {
        "colab": {
          "base_uri": "https://localhost:8080/",
          "height": 252
        },
        "id": "KqY4hgvnpOxe",
        "outputId": "014d6d9f-b63c-4968-c34e-7a7067d11424"
      },
      "execution_count": null,
      "outputs": [
        {
          "name": "stdout",
          "output_type": "stream",
          "text": [
            "enter the number:qww\n"
          ]
        },
        {
          "output_type": "error",
          "ename": "ValueError",
          "evalue": "ignored",
          "traceback": [
            "\u001b[0;31m---------------------------------------------------------------------------\u001b[0m",
            "\u001b[0;31mValueError\u001b[0m                                Traceback (most recent call last)",
            "\u001b[0;32m<ipython-input-9-bfa4eec2c760>\u001b[0m in \u001b[0;36m<module>\u001b[0;34m()\u001b[0m\n\u001b[0;32m----> 1\u001b[0;31m \u001b[0msub1\u001b[0m\u001b[0;34m=\u001b[0m\u001b[0mint\u001b[0m\u001b[0;34m(\u001b[0m\u001b[0minput\u001b[0m\u001b[0;34m(\u001b[0m\u001b[0;34m\"enter the number:\"\u001b[0m\u001b[0;34m)\u001b[0m\u001b[0;34m)\u001b[0m\u001b[0;34m\u001b[0m\u001b[0;34m\u001b[0m\u001b[0m\n\u001b[0m\u001b[1;32m      2\u001b[0m \u001b[0msub2\u001b[0m\u001b[0;34m=\u001b[0m\u001b[0mint\u001b[0m\u001b[0;34m(\u001b[0m\u001b[0minput\u001b[0m\u001b[0;34m(\u001b[0m\u001b[0;34m\"enter the number:\"\u001b[0m\u001b[0;34m)\u001b[0m\u001b[0;34m)\u001b[0m\u001b[0;34m\u001b[0m\u001b[0;34m\u001b[0m\u001b[0m\n\u001b[1;32m      3\u001b[0m \u001b[0msub3\u001b[0m\u001b[0;34m=\u001b[0m\u001b[0mint\u001b[0m\u001b[0;34m(\u001b[0m\u001b[0minput\u001b[0m\u001b[0;34m(\u001b[0m\u001b[0;34m\"enter the third number\"\u001b[0m\u001b[0;34m)\u001b[0m\u001b[0;34m)\u001b[0m\u001b[0;34m\u001b[0m\u001b[0;34m\u001b[0m\u001b[0m\n\u001b[1;32m      4\u001b[0m \u001b[0mavg\u001b[0m\u001b[0;34m=\u001b[0m\u001b[0;34m(\u001b[0m\u001b[0msub1\u001b[0m\u001b[0;34m+\u001b[0m\u001b[0msub2\u001b[0m\u001b[0;34m+\u001b[0m\u001b[0msub3\u001b[0m\u001b[0;34m)\u001b[0m\u001b[0;34m/\u001b[0m\u001b[0;36m3\u001b[0m\u001b[0;34m\u001b[0m\u001b[0;34m\u001b[0m\u001b[0m\n\u001b[1;32m      5\u001b[0m \u001b[0;32mif\u001b[0m\u001b[0;34m(\u001b[0m\u001b[0mavg\u001b[0m\u001b[0;34m>=\u001b[0m\u001b[0;36m90\u001b[0m\u001b[0;34m)\u001b[0m\u001b[0;34m:\u001b[0m\u001b[0;34m\u001b[0m\u001b[0;34m\u001b[0m\u001b[0m\n",
            "\u001b[0;31mValueError\u001b[0m: invalid literal for int() with base 10: 'qww'"
          ]
        }
      ]
    },
    {
      "cell_type": "code",
      "source": [
        "print(\"hrlo\")"
      ],
      "metadata": {
        "colab": {
          "base_uri": "https://localhost:8080/"
        },
        "id": "ISUmULJpqdfb",
        "outputId": "7ee6386e-4911-4025-ee90-371ec9425a9b"
      },
      "execution_count": null,
      "outputs": [
        {
          "output_type": "stream",
          "name": "stdout",
          "text": [
            "hrlo\n"
          ]
        }
      ]
    },
    {
      "cell_type": "code",
      "source": [
        "\"jji\""
      ],
      "metadata": {
        "colab": {
          "base_uri": "https://localhost:8080/",
          "height": 35
        },
        "id": "zIHlMLLPrExN",
        "outputId": "5f663eed-7bcb-4d1c-e1d9-a6d6dac7edcf"
      },
      "execution_count": null,
      "outputs": [
        {
          "output_type": "execute_result",
          "data": {
            "application/vnd.google.colaboratory.intrinsic+json": {
              "type": "string"
            },
            "text/plain": [
              "'jji'"
            ]
          },
          "metadata": {},
          "execution_count": 10
        }
      ]
    },
    {
      "cell_type": "code",
      "source": [
        "lower=int(input(\"enter the number:\"))\n",
        "upper=int(input(\"enter the number:\"))\n",
        "n=int(input(\"enter the number:\"))\n",
        "for i in range(lower,upper+1):\n",
        "  if(i%n==0):\n",
        "    print(i)\n"
      ],
      "metadata": {
        "colab": {
          "base_uri": "https://localhost:8080/"
        },
        "id": "ob_HEwKyrRHe",
        "outputId": "2e0e3e2d-3b04-4a71-df0a-f9ac1a99bb6c"
      },
      "execution_count": null,
      "outputs": [
        {
          "output_type": "stream",
          "name": "stdout",
          "text": [
            "enter the number:12\n",
            "enter the number:45\n",
            "enter the number:6\n",
            "12\n",
            "18\n",
            "24\n",
            "30\n",
            "36\n",
            "42\n"
          ]
        }
      ]
    },
    {
      "cell_type": "code",
      "source": [
        "a=int(input(\"enter the number:\"))\n",
        "b=int(input(\"enter the second number:\"))\n",
        "quoitient=a//b\n",
        "remaider=a%b\n",
        "print(\"the qotient is :\",quoitient)\n",
        "print(\"the remaider is:\",remaider)"
      ],
      "metadata": {
        "colab": {
          "base_uri": "https://localhost:8080/"
        },
        "id": "QnV35o-HsONl",
        "outputId": "e2573989-56cf-4ab8-f231-ccb6b0d60d5b"
      },
      "execution_count": null,
      "outputs": [
        {
          "output_type": "stream",
          "name": "stdout",
          "text": [
            "enter the number:18\n",
            "enter the second number:3\n",
            "the qotient is : 6\n",
            "the remaider is: 0\n"
          ]
        }
      ]
    },
    {
      "cell_type": "code",
      "source": [
        "a=int(input(\"enter the first number:\"))\n",
        "b=int(input(\"enter the second number:\"))\n",
        "c=int(input(\"enter the third number:\"))\n",
        "d=[]\n",
        "d.append(a)\n",
        "d.append(b)\n",
        "d.append(c)\n",
        "for i in range(0,3):\n",
        "  for j in range(0,3):\n",
        "    for k in range(0,3):\n",
        "      if(i!=j&j!=k&k!=i):\n",
        "        print(d[i],d[j],d[k])"
      ],
      "metadata": {
        "colab": {
          "base_uri": "https://localhost:8080/"
        },
        "id": "UbAagR27tX6Y",
        "outputId": "d775eba3-52d5-4674-bbe6-1016c0db7887"
      },
      "execution_count": null,
      "outputs": [
        {
          "output_type": "stream",
          "name": "stdout",
          "text": [
            "enter the first number:12\n",
            "enter the second number:13\n",
            "enter the third number:14\n",
            "12 13 14\n",
            "12 14 13\n",
            "13 12 14\n",
            "13 14 12\n",
            "14 12 13\n",
            "14 13 12\n"
          ]
        }
      ]
    },
    {
      "cell_type": "code",
      "source": [
        " \n",
        "lower=int(input(\"Enter the lower limit for the range:\"))\n",
        "upper=int(input(\"Enter the upper limit for the range:\"))\n",
        "for i in range(lower,upper+1):\n",
        "    if(i%2!=0):\n",
        "        print(i)"
      ],
      "metadata": {
        "colab": {
          "base_uri": "https://localhost:8080/"
        },
        "id": "8vPoXnhVuq0b",
        "outputId": "7489f1b3-dd16-48f9-f064-5e8dcd9526a9"
      },
      "execution_count": null,
      "outputs": [
        {
          "output_type": "stream",
          "name": "stdout",
          "text": [
            "Enter the lower limit for the range:12\n",
            "Enter the upper limit for the range:18\n",
            "13\n",
            "15\n",
            "17\n"
          ]
        }
      ]
    },
    {
      "cell_type": "code",
      "source": [
        "for i in range(1,18):\n",
        "  if(i%2!=0):\n",
        "    print(i)"
      ],
      "metadata": {
        "colab": {
          "base_uri": "https://localhost:8080/"
        },
        "id": "wT3m8NnqvX_I",
        "outputId": "3bfeac26-b6f0-44df-c348-11f84f0924b0"
      },
      "execution_count": null,
      "outputs": [
        {
          "output_type": "stream",
          "name": "stdout",
          "text": [
            "1\n",
            "3\n",
            "5\n",
            "7\n",
            "9\n",
            "11\n",
            "13\n",
            "15\n",
            "17\n"
          ]
        }
      ]
    },
    {
      "cell_type": "code",
      "source": [
        "n=int(input(\"enter thr number:\"))\n",
        "total=0\n",
        "while(n>0):\n",
        "  dig=n%10\n",
        "  total=total*10+dig\n",
        "  n=n//10\n",
        "print(\"the sum of digit\",total)\n"
      ],
      "metadata": {
        "colab": {
          "base_uri": "https://localhost:8080/"
        },
        "id": "GFamsvRhvsSd",
        "outputId": "4ce75aee-2ab6-44b5-bd66-480f57971e27"
      },
      "execution_count": null,
      "outputs": [
        {
          "output_type": "stream",
          "name": "stdout",
          "text": [
            "enter thr number:123\n",
            "the sum of digit 321\n"
          ]
        }
      ]
    },
    {
      "cell_type": "code",
      "source": [
        "n=int(input(\"enter the number:\"))\n",
        "a=[]\n",
        "for i in range(2,n+1):\n",
        "  if(n%i==0):\n",
        "    a.append(i)\n",
        "a.sort()\n",
        "print(\"the smallest number is :\",a[0])"
      ],
      "metadata": {
        "colab": {
          "base_uri": "https://localhost:8080/"
        },
        "id": "n8gxz2LMwTnZ",
        "outputId": "26ffbb7d-c453-490d-9b54-b83c6c42edb6"
      },
      "execution_count": null,
      "outputs": [
        {
          "output_type": "stream",
          "name": "stdout",
          "text": [
            "enter the number:35\n",
            "the smallest number is : 5\n"
          ]
        }
      ]
    },
    {
      "cell_type": "code",
      "source": [
        "n=int(input(\"enter the number:\"))\n",
        "count=0\n",
        "while(n>0):\n",
        "  count=count+1\n",
        "  n=n//10\n",
        "print(\"the numbber id :\",count)\n"
      ],
      "metadata": {
        "colab": {
          "base_uri": "https://localhost:8080/"
        },
        "id": "4TD3bHP2xxQZ",
        "outputId": "7e4c5f83-e39a-431b-ba21-1391d5570b7c"
      },
      "execution_count": null,
      "outputs": [
        {
          "output_type": "stream",
          "name": "stdout",
          "text": [
            "enter the number:1556\n",
            "the numbber id : 4\n"
          ]
        }
      ]
    },
    {
      "cell_type": "code",
      "source": [
        "n=int(input(\"enter the number:\"))\n",
        "temp=n\n",
        "rev=0\n",
        "while(n>0):\n",
        "  dig=n%10\n",
        "  rev=rev*10+dig\n",
        "  n=n//10\n",
        "if(temp==rev):\n",
        "\n",
        "  print(\"the number is palindrome\")\n",
        "else:\n",
        "  print(\"the number is not palindrome\")\n",
        "\n"
      ],
      "metadata": {
        "colab": {
          "base_uri": "https://localhost:8080/"
        },
        "id": "cqgRiKZNyeNh",
        "outputId": "ab593c90-63fd-4752-cf4b-05d5a92227f6"
      },
      "execution_count": null,
      "outputs": [
        {
          "output_type": "stream",
          "name": "stdout",
          "text": [
            "enter the number:121\n",
            "the number is palindrome\n"
          ]
        }
      ]
    },
    {
      "cell_type": "code",
      "source": [
        "for i in range(0,51):\n",
        "  if(i%2!=0)&(i%3!=0):\n",
        "    print(i)"
      ],
      "metadata": {
        "colab": {
          "base_uri": "https://localhost:8080/"
        },
        "id": "d_hBExCIPpm2",
        "outputId": "6289ab7e-b1b5-4a69-b4a7-567f3dd33784"
      },
      "execution_count": null,
      "outputs": [
        {
          "output_type": "stream",
          "name": "stdout",
          "text": [
            "1\n",
            "5\n",
            "7\n",
            "11\n",
            "13\n",
            "17\n",
            "19\n",
            "23\n",
            "25\n",
            "29\n",
            "31\n",
            "35\n",
            "37\n",
            "41\n",
            "43\n",
            "47\n",
            "49\n"
          ]
        }
      ]
    },
    {
      "cell_type": "code",
      "source": [
        "n=int(input(\"enter the number:\"))\n",
        "a=[]\n",
        "for i in range(1,n+1):\n",
        "  print(i,sep=\" \",end=\" \")\n",
        "  if(i<n):\n",
        "    print(\"+\",sep=\" \",end=\" \")\n",
        "  a.append(i)  \n",
        "print(\"=\",sum(a))\n",
        "\n",
        "print()"
      ],
      "metadata": {
        "id": "JGzm9L6NQhdI",
        "colab": {
          "base_uri": "https://localhost:8080/"
        },
        "outputId": "0f0dca9a-606d-403a-faab-a252778704e8"
      },
      "execution_count": null,
      "outputs": [
        {
          "output_type": "stream",
          "name": "stdout",
          "text": [
            "enter the number:5\n",
            "1 + 2 + 3 + 4 + 5 = 15\n",
            "\n"
          ]
        }
      ]
    },
    {
      "cell_type": "code",
      "source": [
        "n=int(input(\"enter thr number:\"))\n",
        "for j in range(1,n+1):\n",
        "  a=[]\n",
        "  for i in range(1,j+1):\n",
        "    print(i,sep=\" \",end=\" \")\n",
        "    if(i<j):\n",
        "      print(\"+\",sep=\" \",end=\" \")\n",
        "    a.append(i)\n",
        "print(\"=\",sum(a))  \n",
        "\n",
        "  "
      ],
      "metadata": {
        "colab": {
          "base_uri": "https://localhost:8080/"
        },
        "id": "vic8dVm5tcqD",
        "outputId": "0819934d-0b0d-4a49-e085-8dda173fa2b6"
      },
      "execution_count": null,
      "outputs": [
        {
          "output_type": "stream",
          "name": "stdout",
          "text": [
            "enter thr number:13\n",
            "1 1 + 2 1 + 2 + 3 1 + 2 + 3 + 4 1 + 2 + 3 + 4 + 5 1 + 2 + 3 + 4 + 5 + 6 1 + 2 + 3 + 4 + 5 + 6 + 7 1 + 2 + 3 + 4 + 5 + 6 + 7 + 8 1 + 2 + 3 + 4 + 5 + 6 + 7 + 8 + 9 1 + 2 + 3 + 4 + 5 + 6 + 7 + 8 + 9 + 10 1 + 2 + 3 + 4 + 5 + 6 + 7 + 8 + 9 + 10 + 11 1 + 2 + 3 + 4 + 5 + 6 + 7 + 8 + 9 + 10 + 11 + 12 1 + 2 + 3 + 4 + 5 + 6 + 7 + 8 + 9 + 10 + 11 + 12 + 13 = 91\n"
          ]
        }
      ]
    },
    {
      "cell_type": "code",
      "source": [
        "for i in range(1,5):\n",
        "  for j in range(1,4):\n",
        "    \n",
        "      print(i*j)"
      ],
      "metadata": {
        "colab": {
          "base_uri": "https://localhost:8080/"
        },
        "id": "dsH41s02zFe3",
        "outputId": "f4af57b2-d12a-4085-e341-a9f5bcc6a80b"
      },
      "execution_count": null,
      "outputs": [
        {
          "output_type": "stream",
          "name": "stdout",
          "text": [
            "1\n",
            "2\n",
            "3\n",
            "2\n",
            "4\n",
            "6\n",
            "3\n",
            "6\n",
            "9\n",
            "4\n",
            "8\n",
            "12\n"
          ]
        }
      ]
    },
    {
      "cell_type": "code",
      "source": [
        "for i in range(1,11):\n",
        "  for j in range(1,11):\n",
        "    print(i*j,end=\"\\t \")\n",
        "  print()"
      ],
      "metadata": {
        "colab": {
          "base_uri": "https://localhost:8080/"
        },
        "id": "gYi71byr5EHL",
        "outputId": "f4d92684-0aaf-4563-81de-98fb6a1c6656"
      },
      "execution_count": null,
      "outputs": [
        {
          "output_type": "stream",
          "name": "stdout",
          "text": [
            "1\t 2\t 3\t 4\t 5\t 6\t 7\t 8\t 9\t 10\t \n",
            "2\t 4\t 6\t 8\t 10\t 12\t 14\t 16\t 18\t 20\t \n",
            "3\t 6\t 9\t 12\t 15\t 18\t 21\t 24\t 27\t 30\t \n",
            "4\t 8\t 12\t 16\t 20\t 24\t 28\t 32\t 36\t 40\t \n",
            "5\t 10\t 15\t 20\t 25\t 30\t 35\t 40\t 45\t 50\t \n",
            "6\t 12\t 18\t 24\t 30\t 36\t 42\t 48\t 54\t 60\t \n",
            "7\t 14\t 21\t 28\t 35\t 42\t 49\t 56\t 63\t 70\t \n",
            "8\t 16\t 24\t 32\t 40\t 48\t 56\t 64\t 72\t 80\t \n",
            "9\t 18\t 27\t 36\t 45\t 54\t 63\t 72\t 81\t 90\t \n",
            "10\t 20\t 30\t 40\t 50\t 60\t 70\t 80\t 90\t 100\t \n"
          ]
        }
      ]
    },
    {
      "cell_type": "code",
      "source": [
        "for a in range(2,7):\n",
        "  for b in range(1,a):\n",
        "\n",
        "    print(a,b,end=\"\\t \")\n",
        "  print()"
      ],
      "metadata": {
        "colab": {
          "base_uri": "https://localhost:8080/"
        },
        "id": "DnJ8qq8Z7QCr",
        "outputId": "8c35b784-e1e9-4318-a8b1-b2b756b2e290"
      },
      "execution_count": null,
      "outputs": [
        {
          "output_type": "stream",
          "name": "stdout",
          "text": [
            "2 1\t \n",
            "3 1\t 3 2\t \n",
            "4 1\t 4 2\t 4 3\t \n",
            "5 1\t 5 2\t 5 3\t 5 4\t \n",
            "6 1\t 6 2\t 6 3\t 6 4\t 6 5\t \n"
          ]
        }
      ]
    },
    {
      "cell_type": "code",
      "source": [
        "n=int(input(\"Enter a number: \"))\n",
        "for j in range(1,n+1):\n",
        "    a=[]\n",
        "    for i in range(1,j+1):\n",
        "        print(i,sep=\" \",end=\" \")\n",
        "        if(i<j):\n",
        "            print(\"+\",sep=\" \",end=\" \")\n",
        "        a.append(i)\n",
        "    print(\"=\",sum(a))\n",
        " \n",
        "print()\n",
        "\n"
      ],
      "metadata": {
        "colab": {
          "base_uri": "https://localhost:8080/"
        },
        "id": "Z0YcasT-BwCx",
        "outputId": "a9e5c244-4fb7-4b75-b76e-d216758704d0"
      },
      "execution_count": null,
      "outputs": [
        {
          "output_type": "stream",
          "name": "stdout",
          "text": [
            "Enter a number: 5\n",
            "1 = 1\n",
            "1 + 2 = 3\n",
            "1 + 2 + 3 = 6\n",
            "1 + 2 + 3 + 4 = 10\n",
            "1 + 2 + 3 + 4 + 5 = 15\n",
            "\n"
          ]
        }
      ]
    },
    {
      "cell_type": "code",
      "source": [
        "n=int(input(\"enter the number:\"))\n",
        "for i in range(1,n):\n",
        "  for j in  range(1,n):\n",
        "    if(i==j):\n",
        "      print(1,sep=\" \",end=\" \")\n",
        "    else:\n",
        "      print(\"0\",sep=\" \",end=\" \")\n",
        "  print()"
      ],
      "metadata": {
        "colab": {
          "base_uri": "https://localhost:8080/"
        },
        "id": "uBZTxccMDZ5w",
        "outputId": "4b0b1601-4a88-47ba-8edf-897abc3276e4"
      },
      "execution_count": null,
      "outputs": [
        {
          "output_type": "stream",
          "name": "stdout",
          "text": [
            "enter the number:5\n",
            "1 0 0 0 \n",
            "0 1 0 0 \n",
            "0 0 1 0 \n",
            "0 0 0 1 \n"
          ]
        }
      ]
    },
    {
      "cell_type": "code",
      "source": [
        "n=int(input(\"enter the number:\"))\n",
        "for i in range(n,0,-1):\n",
        "  print((n-i)*\" \"+ i* \"*\")"
      ],
      "metadata": {
        "colab": {
          "base_uri": "https://localhost:8080/"
        },
        "id": "0qc4uAR7F36D",
        "outputId": "f630e254-600d-4d9c-c5ee-8fcee1aeef66"
      },
      "execution_count": null,
      "outputs": [
        {
          "output_type": "stream",
          "name": "stdout",
          "text": [
            "enter the number:4\n",
            "****\n",
            " ***\n",
            "  **\n",
            "   *\n"
          ]
        }
      ]
    },
    {
      "cell_type": "code",
      "source": [
        ""
      ],
      "metadata": {
        "id": "Su7OEv0GHR4A"
      },
      "execution_count": null,
      "outputs": []
    }
  ]
}